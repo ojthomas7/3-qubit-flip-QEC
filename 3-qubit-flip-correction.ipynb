{
 "cells": [
  {
   "cell_type": "code",
   "execution_count": 3,
   "id": "dfe8ae2e-af62-4bbb-b8e3-80d16ddd07de",
   "metadata": {},
   "outputs": [
    {
     "data": {
      "text/html": [
       "<pre style=\"word-wrap: normal;white-space: pre;background: #fff0;line-height: 1.1;font-family: &quot;Courier New&quot;,Courier,monospace\">      ░            ░ ┌───┐ ░                      ░        ░ \n",
       "q_0: ─░───■────■───░─┤ X ├─░───■──────────────────░────────░─\n",
       "      ░ ┌─┴─┐  │   ░ └───┘ ░   │                  ░        ░ \n",
       "q_1: ─░─┤ X ├──┼───░───────░───┼────■────■────────░────────░─\n",
       "      ░ └───┘┌─┴─┐ ░       ░   │    │    │        ░        ░ \n",
       "q_2: ─░──────┤ X ├─░───────░───┼────┼────┼────■───░────────░─\n",
       "      ░      └───┘ ░       ░ ┌─┴─┐┌─┴─┐  │    │   ░    ┌─┐ ░ \n",
       "q_3: ─░────────────░───────░─┤ X ├┤ X ├──┼────┼───░────┤M├─░─\n",
       "      ░            ░       ░ └───┘└───┘┌─┴─┐┌─┴─┐ ░ ┌─┐└╥┘ ░ \n",
       "q_4: ─░────────────░───────░───────────┤ X ├┤ X ├─░─┤M├─╫──░─\n",
       "      ░            ░       ░           └───┘└───┘ ░ └╥┘ ║  ░ \n",
       "c: 4/════════════════════════════════════════════════╩══╩════\n",
       "                                                     3  3    </pre>"
      ],
      "text/plain": [
       "      ░            ░ ┌───┐ ░                      ░        ░ \n",
       "q_0: ─░───■────■───░─┤ X ├─░───■──────────────────░────────░─\n",
       "      ░ ┌─┴─┐  │   ░ └───┘ ░   │                  ░        ░ \n",
       "q_1: ─░─┤ X ├──┼───░───────░───┼────■────■────────░────────░─\n",
       "      ░ └───┘┌─┴─┐ ░       ░   │    │    │        ░        ░ \n",
       "q_2: ─░──────┤ X ├─░───────░───┼────┼────┼────■───░────────░─\n",
       "      ░      └───┘ ░       ░ ┌─┴─┐┌─┴─┐  │    │   ░    ┌─┐ ░ \n",
       "q_3: ─░────────────░───────░─┤ X ├┤ X ├──┼────┼───░────┤M├─░─\n",
       "      ░            ░       ░ └───┘└───┘┌─┴─┐┌─┴─┐ ░ ┌─┐└╥┘ ░ \n",
       "q_4: ─░────────────░───────░───────────┤ X ├┤ X ├─░─┤M├─╫──░─\n",
       "      ░            ░       ░           └───┘└───┘ ░ └╥┘ ║  ░ \n",
       "c: 4/════════════════════════════════════════════════╩══╩════\n",
       "                                                     3  3    "
      ]
     },
     "execution_count": 3,
     "metadata": {},
     "output_type": "execute_result"
    }
   ],
   "source": [
    "from qiskit import QuantumRegister, ClassicalRegister, QuantumCircuit\n",
    "from numpy import pi\n",
    "\n",
    "# define quantum and classical registers, initialise circuit\n",
    "qreg_q = QuantumRegister(5, 'q')\n",
    "creg_c = ClassicalRegister(4, 'c')\n",
    "circuit = QuantumCircuit(qreg_q, creg_c)\n",
    "circuit.barrier(qreg_q)\n",
    "\n",
    "# encode qubit into higher Hilbert space\n",
    "circuit.cx(qreg_q[0], qreg_q[1])\n",
    "circuit.cx(qreg_q[0], qreg_q[2])\n",
    "circuit.barrier(qreg_q[0], qreg_q[1], qreg_q[2], qreg_q[3], qreg_q[4])\n",
    "\n",
    "# apply some error to the system, in this case a bit-flip error on the first qubit\n",
    "circuit.x(qreg_q[0])\n",
    "circuit.barrier(qreg_q)\n",
    "\n",
    "\n",
    "circuit.cx(qreg_q[0], qreg_q[3])\n",
    "circuit.cx(qreg_q[1], qreg_q[3])\n",
    "circuit.cx(qreg_q[1], qreg_q[4])\n",
    "circuit.cx(qreg_q[2], qreg_q[4])\n",
    "circuit.barrier(qreg_q[0], qreg_q[1], qreg_q[2], qreg_q[3], qreg_q[4])\n",
    "circuit.measure(qreg_q[4], creg_c[3])\n",
    "circuit.measure(qreg_q[3], creg_c[3])\n",
    "circuit.barrier(qreg_q[0], qreg_q[1], qreg_q[2], qreg_q[3], qreg_q[4])\n",
    "\n",
    "circuit.draw()"
   ]
  },
  {
   "cell_type": "code",
   "execution_count": null,
   "id": "5d155627-3369-435a-950b-585c81a19632",
   "metadata": {},
   "outputs": [],
   "source": []
  }
 ],
 "metadata": {
  "kernelspec": {
   "display_name": "Python 3 (ipykernel)",
   "language": "python",
   "name": "python3"
  },
  "language_info": {
   "codemirror_mode": {
    "name": "ipython",
    "version": 3
   },
   "file_extension": ".py",
   "mimetype": "text/x-python",
   "name": "python",
   "nbconvert_exporter": "python",
   "pygments_lexer": "ipython3",
   "version": "3.11.7"
  }
 },
 "nbformat": 4,
 "nbformat_minor": 5
}
